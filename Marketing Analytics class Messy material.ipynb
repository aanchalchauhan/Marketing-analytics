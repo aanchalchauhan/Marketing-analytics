{
 "cells": [
  {
   "cell_type": "code",
   "execution_count": 1,
   "metadata": {},
   "outputs": [
    {
     "data": {
      "text/html": [
       "<div>\n",
       "<style scoped>\n",
       "    .dataframe tbody tr th:only-of-type {\n",
       "        vertical-align: middle;\n",
       "    }\n",
       "\n",
       "    .dataframe tbody tr th {\n",
       "        vertical-align: top;\n",
       "    }\n",
       "\n",
       "    .dataframe thead th {\n",
       "        text-align: right;\n",
       "    }\n",
       "</style>\n",
       "<table border=\"1\" class=\"dataframe\">\n",
       "  <thead>\n",
       "    <tr style=\"text-align: right;\">\n",
       "      <th></th>\n",
       "      <th>OrderID</th>\n",
       "      <th>Product</th>\n",
       "      <th>Qnt</th>\n",
       "      <th>Price</th>\n",
       "      <th>State</th>\n",
       "      <th>Sales</th>\n",
       "      <th>Profit</th>\n",
       "    </tr>\n",
       "  </thead>\n",
       "  <tbody>\n",
       "    <tr>\n",
       "      <th>0</th>\n",
       "      <td>1</td>\n",
       "      <td>Electronics</td>\n",
       "      <td>2</td>\n",
       "      <td>27079</td>\n",
       "      <td>Punjab</td>\n",
       "      <td>54158</td>\n",
       "      <td>8124</td>\n",
       "    </tr>\n",
       "    <tr>\n",
       "      <th>1</th>\n",
       "      <td>2</td>\n",
       "      <td>Clothing</td>\n",
       "      <td>2</td>\n",
       "      <td>2500</td>\n",
       "      <td>Goa</td>\n",
       "      <td>5000</td>\n",
       "      <td>8474</td>\n",
       "    </tr>\n",
       "    <tr>\n",
       "      <th>2</th>\n",
       "      <td>3</td>\n",
       "      <td>Computer</td>\n",
       "      <td>3</td>\n",
       "      <td>30835</td>\n",
       "      <td>Karnataka</td>\n",
       "      <td>92505</td>\n",
       "      <td>12951</td>\n",
       "    </tr>\n",
       "    <tr>\n",
       "      <th>3</th>\n",
       "      <td>4</td>\n",
       "      <td>Furniture</td>\n",
       "      <td>3</td>\n",
       "      <td>22013</td>\n",
       "      <td>MH</td>\n",
       "      <td>66039</td>\n",
       "      <td>10566</td>\n",
       "    </tr>\n",
       "    <tr>\n",
       "      <th>4</th>\n",
       "      <td>5</td>\n",
       "      <td>Electronics</td>\n",
       "      <td>7</td>\n",
       "      <td>24581</td>\n",
       "      <td>Karnataka</td>\n",
       "      <td>172067</td>\n",
       "      <td>30975</td>\n",
       "    </tr>\n",
       "    <tr>\n",
       "      <th>5</th>\n",
       "      <td>6</td>\n",
       "      <td>Computer</td>\n",
       "      <td>10</td>\n",
       "      <td>41561</td>\n",
       "      <td>Punjab</td>\n",
       "      <td>415610</td>\n",
       "      <td>62340</td>\n",
       "    </tr>\n",
       "    <tr>\n",
       "      <th>6</th>\n",
       "      <td>7</td>\n",
       "      <td>Clothing</td>\n",
       "      <td>2</td>\n",
       "      <td>2200</td>\n",
       "      <td>Karnataka</td>\n",
       "      <td>4400</td>\n",
       "      <td>11458</td>\n",
       "    </tr>\n",
       "    <tr>\n",
       "      <th>7</th>\n",
       "      <td>8</td>\n",
       "      <td>Computer</td>\n",
       "      <td>8</td>\n",
       "      <td>44135</td>\n",
       "      <td>Gujarat</td>\n",
       "      <td>353080</td>\n",
       "      <td>38840</td>\n",
       "    </tr>\n",
       "    <tr>\n",
       "      <th>8</th>\n",
       "      <td>9</td>\n",
       "      <td>Furniture</td>\n",
       "      <td>9</td>\n",
       "      <td>38662</td>\n",
       "      <td>Gujarat</td>\n",
       "      <td>347958</td>\n",
       "      <td>62631</td>\n",
       "    </tr>\n",
       "    <tr>\n",
       "      <th>9</th>\n",
       "      <td>10</td>\n",
       "      <td>Computer</td>\n",
       "      <td>2</td>\n",
       "      <td>33259</td>\n",
       "      <td>Punjab</td>\n",
       "      <td>66518</td>\n",
       "      <td>9312</td>\n",
       "    </tr>\n",
       "    <tr>\n",
       "      <th>10</th>\n",
       "      <td>11</td>\n",
       "      <td>Clothing</td>\n",
       "      <td>7</td>\n",
       "      <td>3000</td>\n",
       "      <td>Karnataka</td>\n",
       "      <td>21000</td>\n",
       "      <td>39382</td>\n",
       "    </tr>\n",
       "    <tr>\n",
       "      <th>11</th>\n",
       "      <td>12</td>\n",
       "      <td>Computer</td>\n",
       "      <td>3</td>\n",
       "      <td>48496</td>\n",
       "      <td>Punjab</td>\n",
       "      <td>145488</td>\n",
       "      <td>24732</td>\n",
       "    </tr>\n",
       "    <tr>\n",
       "      <th>12</th>\n",
       "      <td>13</td>\n",
       "      <td>Computer</td>\n",
       "      <td>6</td>\n",
       "      <td>45291</td>\n",
       "      <td>Goa</td>\n",
       "      <td>271746</td>\n",
       "      <td>51630</td>\n",
       "    </tr>\n",
       "    <tr>\n",
       "      <th>13</th>\n",
       "      <td>14</td>\n",
       "      <td>Electronics</td>\n",
       "      <td>8</td>\n",
       "      <td>47245</td>\n",
       "      <td>MH</td>\n",
       "      <td>377960</td>\n",
       "      <td>41576</td>\n",
       "    </tr>\n",
       "    <tr>\n",
       "      <th>14</th>\n",
       "      <td>15</td>\n",
       "      <td>Auto</td>\n",
       "      <td>1</td>\n",
       "      <td>45170</td>\n",
       "      <td>Karnataka</td>\n",
       "      <td>45170</td>\n",
       "      <td>4517</td>\n",
       "    </tr>\n",
       "    <tr>\n",
       "      <th>15</th>\n",
       "      <td>16</td>\n",
       "      <td>Auto</td>\n",
       "      <td>1</td>\n",
       "      <td>48271</td>\n",
       "      <td>MH</td>\n",
       "      <td>48271</td>\n",
       "      <td>4827</td>\n",
       "    </tr>\n",
       "    <tr>\n",
       "      <th>16</th>\n",
       "      <td>17</td>\n",
       "      <td>Clothing</td>\n",
       "      <td>9</td>\n",
       "      <td>4000</td>\n",
       "      <td>Goa</td>\n",
       "      <td>36000</td>\n",
       "      <td>50895</td>\n",
       "    </tr>\n",
       "    <tr>\n",
       "      <th>17</th>\n",
       "      <td>18</td>\n",
       "      <td>Computer</td>\n",
       "      <td>8</td>\n",
       "      <td>35351</td>\n",
       "      <td>MH</td>\n",
       "      <td>282808</td>\n",
       "      <td>28280</td>\n",
       "    </tr>\n",
       "    <tr>\n",
       "      <th>18</th>\n",
       "      <td>19</td>\n",
       "      <td>Electronics</td>\n",
       "      <td>3</td>\n",
       "      <td>45614</td>\n",
       "      <td>MH</td>\n",
       "      <td>136842</td>\n",
       "      <td>13683</td>\n",
       "    </tr>\n",
       "    <tr>\n",
       "      <th>19</th>\n",
       "      <td>20</td>\n",
       "      <td>Auto</td>\n",
       "      <td>6</td>\n",
       "      <td>32198</td>\n",
       "      <td>Goa</td>\n",
       "      <td>193188</td>\n",
       "      <td>21252</td>\n",
       "    </tr>\n",
       "    <tr>\n",
       "      <th>20</th>\n",
       "      <td>21</td>\n",
       "      <td>Furniture</td>\n",
       "      <td>10</td>\n",
       "      <td>20082</td>\n",
       "      <td>MH</td>\n",
       "      <td>200820</td>\n",
       "      <td>40160</td>\n",
       "    </tr>\n",
       "    <tr>\n",
       "      <th>21</th>\n",
       "      <td>22</td>\n",
       "      <td>Electronics</td>\n",
       "      <td>6</td>\n",
       "      <td>27034</td>\n",
       "      <td>Gujarat</td>\n",
       "      <td>162204</td>\n",
       "      <td>21084</td>\n",
       "    </tr>\n",
       "    <tr>\n",
       "      <th>22</th>\n",
       "      <td>23</td>\n",
       "      <td>Computer</td>\n",
       "      <td>10</td>\n",
       "      <td>25053</td>\n",
       "      <td>Gujarat</td>\n",
       "      <td>250530</td>\n",
       "      <td>32570</td>\n",
       "    </tr>\n",
       "    <tr>\n",
       "      <th>23</th>\n",
       "      <td>24</td>\n",
       "      <td>Auto</td>\n",
       "      <td>4</td>\n",
       "      <td>43316</td>\n",
       "      <td>Punjab</td>\n",
       "      <td>173264</td>\n",
       "      <td>31188</td>\n",
       "    </tr>\n",
       "    <tr>\n",
       "      <th>24</th>\n",
       "      <td>25</td>\n",
       "      <td>Furniture</td>\n",
       "      <td>1</td>\n",
       "      <td>23894</td>\n",
       "      <td>Punjab</td>\n",
       "      <td>23894</td>\n",
       "      <td>2867</td>\n",
       "    </tr>\n",
       "    <tr>\n",
       "      <th>25</th>\n",
       "      <td>26</td>\n",
       "      <td>Furniture</td>\n",
       "      <td>7</td>\n",
       "      <td>34316</td>\n",
       "      <td>Goa</td>\n",
       "      <td>240212</td>\n",
       "      <td>48041</td>\n",
       "    </tr>\n",
       "    <tr>\n",
       "      <th>26</th>\n",
       "      <td>27</td>\n",
       "      <td>Clothing</td>\n",
       "      <td>4</td>\n",
       "      <td>1200</td>\n",
       "      <td>Punjab</td>\n",
       "      <td>4800</td>\n",
       "      <td>15108</td>\n",
       "    </tr>\n",
       "    <tr>\n",
       "      <th>27</th>\n",
       "      <td>28</td>\n",
       "      <td>Electronics</td>\n",
       "      <td>9</td>\n",
       "      <td>38053</td>\n",
       "      <td>Punjab</td>\n",
       "      <td>342477</td>\n",
       "      <td>58221</td>\n",
       "    </tr>\n",
       "    <tr>\n",
       "      <th>28</th>\n",
       "      <td>29</td>\n",
       "      <td>Electronics</td>\n",
       "      <td>8</td>\n",
       "      <td>42305</td>\n",
       "      <td>Gujarat</td>\n",
       "      <td>338440</td>\n",
       "      <td>50768</td>\n",
       "    </tr>\n",
       "    <tr>\n",
       "      <th>29</th>\n",
       "      <td>30</td>\n",
       "      <td>Clothing</td>\n",
       "      <td>9</td>\n",
       "      <td>5000</td>\n",
       "      <td>Karnataka</td>\n",
       "      <td>45000</td>\n",
       "      <td>27153</td>\n",
       "    </tr>\n",
       "    <tr>\n",
       "      <th>...</th>\n",
       "      <td>...</td>\n",
       "      <td>...</td>\n",
       "      <td>...</td>\n",
       "      <td>...</td>\n",
       "      <td>...</td>\n",
       "      <td>...</td>\n",
       "      <td>...</td>\n",
       "    </tr>\n",
       "    <tr>\n",
       "      <th>70</th>\n",
       "      <td>71</td>\n",
       "      <td>Computer</td>\n",
       "      <td>3</td>\n",
       "      <td>21313</td>\n",
       "      <td>MH</td>\n",
       "      <td>63939</td>\n",
       "      <td>7674</td>\n",
       "    </tr>\n",
       "    <tr>\n",
       "      <th>71</th>\n",
       "      <td>72</td>\n",
       "      <td>Furniture</td>\n",
       "      <td>4</td>\n",
       "      <td>46966</td>\n",
       "      <td>Karnataka</td>\n",
       "      <td>187864</td>\n",
       "      <td>20664</td>\n",
       "    </tr>\n",
       "    <tr>\n",
       "      <th>72</th>\n",
       "      <td>73</td>\n",
       "      <td>Furniture</td>\n",
       "      <td>5</td>\n",
       "      <td>44860</td>\n",
       "      <td>Goa</td>\n",
       "      <td>224300</td>\n",
       "      <td>42615</td>\n",
       "    </tr>\n",
       "    <tr>\n",
       "      <th>73</th>\n",
       "      <td>74</td>\n",
       "      <td>Electronics</td>\n",
       "      <td>6</td>\n",
       "      <td>37147</td>\n",
       "      <td>Punjab</td>\n",
       "      <td>222882</td>\n",
       "      <td>33432</td>\n",
       "    </tr>\n",
       "    <tr>\n",
       "      <th>74</th>\n",
       "      <td>75</td>\n",
       "      <td>Clothing</td>\n",
       "      <td>3</td>\n",
       "      <td>4200</td>\n",
       "      <td>Gujarat</td>\n",
       "      <td>12600</td>\n",
       "      <td>18273</td>\n",
       "    </tr>\n",
       "    <tr>\n",
       "      <th>75</th>\n",
       "      <td>76</td>\n",
       "      <td>Clothing</td>\n",
       "      <td>3</td>\n",
       "      <td>1590</td>\n",
       "      <td>Goa</td>\n",
       "      <td>4770</td>\n",
       "      <td>12972</td>\n",
       "    </tr>\n",
       "    <tr>\n",
       "      <th>76</th>\n",
       "      <td>77</td>\n",
       "      <td>Computer</td>\n",
       "      <td>3</td>\n",
       "      <td>24716</td>\n",
       "      <td>Gujarat</td>\n",
       "      <td>74148</td>\n",
       "      <td>11865</td>\n",
       "    </tr>\n",
       "    <tr>\n",
       "      <th>77</th>\n",
       "      <td>78</td>\n",
       "      <td>Auto</td>\n",
       "      <td>8</td>\n",
       "      <td>34901</td>\n",
       "      <td>Gujarat</td>\n",
       "      <td>279208</td>\n",
       "      <td>36296</td>\n",
       "    </tr>\n",
       "    <tr>\n",
       "      <th>78</th>\n",
       "      <td>79</td>\n",
       "      <td>Electronics</td>\n",
       "      <td>9</td>\n",
       "      <td>34171</td>\n",
       "      <td>Karnataka</td>\n",
       "      <td>307539</td>\n",
       "      <td>58428</td>\n",
       "    </tr>\n",
       "    <tr>\n",
       "      <th>79</th>\n",
       "      <td>80</td>\n",
       "      <td>Electronics</td>\n",
       "      <td>10</td>\n",
       "      <td>23693</td>\n",
       "      <td>MH</td>\n",
       "      <td>236930</td>\n",
       "      <td>40280</td>\n",
       "    </tr>\n",
       "    <tr>\n",
       "      <th>80</th>\n",
       "      <td>81</td>\n",
       "      <td>Electronics</td>\n",
       "      <td>4</td>\n",
       "      <td>45203</td>\n",
       "      <td>Gujarat</td>\n",
       "      <td>180812</td>\n",
       "      <td>36164</td>\n",
       "    </tr>\n",
       "    <tr>\n",
       "      <th>81</th>\n",
       "      <td>82</td>\n",
       "      <td>Electronics</td>\n",
       "      <td>4</td>\n",
       "      <td>23177</td>\n",
       "      <td>Karnataka</td>\n",
       "      <td>92708</td>\n",
       "      <td>12980</td>\n",
       "    </tr>\n",
       "    <tr>\n",
       "      <th>82</th>\n",
       "      <td>83</td>\n",
       "      <td>Clothing</td>\n",
       "      <td>8</td>\n",
       "      <td>1800</td>\n",
       "      <td>Gujarat</td>\n",
       "      <td>14400</td>\n",
       "      <td>22488</td>\n",
       "    </tr>\n",
       "    <tr>\n",
       "      <th>83</th>\n",
       "      <td>84</td>\n",
       "      <td>Auto</td>\n",
       "      <td>1</td>\n",
       "      <td>25195</td>\n",
       "      <td>Punjab</td>\n",
       "      <td>25195</td>\n",
       "      <td>4031</td>\n",
       "    </tr>\n",
       "    <tr>\n",
       "      <th>84</th>\n",
       "      <td>85</td>\n",
       "      <td>Clothing</td>\n",
       "      <td>3</td>\n",
       "      <td>2700</td>\n",
       "      <td>Goa</td>\n",
       "      <td>8100</td>\n",
       "      <td>21693</td>\n",
       "    </tr>\n",
       "    <tr>\n",
       "      <th>85</th>\n",
       "      <td>86</td>\n",
       "      <td>Electronics</td>\n",
       "      <td>6</td>\n",
       "      <td>35603</td>\n",
       "      <td>MH</td>\n",
       "      <td>213618</td>\n",
       "      <td>38454</td>\n",
       "    </tr>\n",
       "    <tr>\n",
       "      <th>86</th>\n",
       "      <td>87</td>\n",
       "      <td>Electronics</td>\n",
       "      <td>4</td>\n",
       "      <td>25572</td>\n",
       "      <td>MH</td>\n",
       "      <td>102288</td>\n",
       "      <td>20456</td>\n",
       "    </tr>\n",
       "    <tr>\n",
       "      <th>87</th>\n",
       "      <td>88</td>\n",
       "      <td>Auto</td>\n",
       "      <td>5</td>\n",
       "      <td>47841</td>\n",
       "      <td>Karnataka</td>\n",
       "      <td>239205</td>\n",
       "      <td>28705</td>\n",
       "    </tr>\n",
       "    <tr>\n",
       "      <th>88</th>\n",
       "      <td>89</td>\n",
       "      <td>Auto</td>\n",
       "      <td>8</td>\n",
       "      <td>38521</td>\n",
       "      <td>Karnataka</td>\n",
       "      <td>308168</td>\n",
       "      <td>55472</td>\n",
       "    </tr>\n",
       "    <tr>\n",
       "      <th>89</th>\n",
       "      <td>90</td>\n",
       "      <td>Computer</td>\n",
       "      <td>5</td>\n",
       "      <td>40210</td>\n",
       "      <td>MH</td>\n",
       "      <td>201050</td>\n",
       "      <td>38200</td>\n",
       "    </tr>\n",
       "    <tr>\n",
       "      <th>90</th>\n",
       "      <td>91</td>\n",
       "      <td>Computer</td>\n",
       "      <td>7</td>\n",
       "      <td>42772</td>\n",
       "      <td>Goa</td>\n",
       "      <td>299404</td>\n",
       "      <td>44912</td>\n",
       "    </tr>\n",
       "    <tr>\n",
       "      <th>91</th>\n",
       "      <td>92</td>\n",
       "      <td>Computer</td>\n",
       "      <td>4</td>\n",
       "      <td>36918</td>\n",
       "      <td>Punjab</td>\n",
       "      <td>147672</td>\n",
       "      <td>23628</td>\n",
       "    </tr>\n",
       "    <tr>\n",
       "      <th>92</th>\n",
       "      <td>93</td>\n",
       "      <td>Electronics</td>\n",
       "      <td>7</td>\n",
       "      <td>41953</td>\n",
       "      <td>Karnataka</td>\n",
       "      <td>293671</td>\n",
       "      <td>58737</td>\n",
       "    </tr>\n",
       "    <tr>\n",
       "      <th>93</th>\n",
       "      <td>94</td>\n",
       "      <td>Auto</td>\n",
       "      <td>4</td>\n",
       "      <td>42778</td>\n",
       "      <td>Gujarat</td>\n",
       "      <td>171112</td>\n",
       "      <td>34224</td>\n",
       "    </tr>\n",
       "    <tr>\n",
       "      <th>94</th>\n",
       "      <td>95</td>\n",
       "      <td>Clothing</td>\n",
       "      <td>7</td>\n",
       "      <td>3789</td>\n",
       "      <td>Gujarat</td>\n",
       "      <td>26523</td>\n",
       "      <td>39011</td>\n",
       "    </tr>\n",
       "    <tr>\n",
       "      <th>95</th>\n",
       "      <td>96</td>\n",
       "      <td>Electronics</td>\n",
       "      <td>3</td>\n",
       "      <td>42268</td>\n",
       "      <td>Karnataka</td>\n",
       "      <td>126804</td>\n",
       "      <td>24093</td>\n",
       "    </tr>\n",
       "    <tr>\n",
       "      <th>96</th>\n",
       "      <td>97</td>\n",
       "      <td>Electronics</td>\n",
       "      <td>4</td>\n",
       "      <td>36189</td>\n",
       "      <td>Karnataka</td>\n",
       "      <td>144756</td>\n",
       "      <td>17372</td>\n",
       "    </tr>\n",
       "    <tr>\n",
       "      <th>97</th>\n",
       "      <td>98</td>\n",
       "      <td>Clothing</td>\n",
       "      <td>8</td>\n",
       "      <td>4800</td>\n",
       "      <td>MH</td>\n",
       "      <td>38400</td>\n",
       "      <td>62824</td>\n",
       "    </tr>\n",
       "    <tr>\n",
       "      <th>98</th>\n",
       "      <td>99</td>\n",
       "      <td>Clothing</td>\n",
       "      <td>6</td>\n",
       "      <td>1400</td>\n",
       "      <td>Gujarat</td>\n",
       "      <td>8400</td>\n",
       "      <td>20088</td>\n",
       "    </tr>\n",
       "    <tr>\n",
       "      <th>99</th>\n",
       "      <td>100</td>\n",
       "      <td>Auto</td>\n",
       "      <td>6</td>\n",
       "      <td>28250</td>\n",
       "      <td>Gujarat</td>\n",
       "      <td>169500</td>\n",
       "      <td>23730</td>\n",
       "    </tr>\n",
       "  </tbody>\n",
       "</table>\n",
       "<p>100 rows × 7 columns</p>\n",
       "</div>"
      ],
      "text/plain": [
       "    OrderID      Product  Qnt  Price      State   Sales  Profit\n",
       "0         1  Electronics    2  27079     Punjab   54158    8124\n",
       "1         2     Clothing    2   2500        Goa    5000    8474\n",
       "2         3     Computer    3  30835  Karnataka   92505   12951\n",
       "3         4    Furniture    3  22013         MH   66039   10566\n",
       "4         5  Electronics    7  24581  Karnataka  172067   30975\n",
       "5         6     Computer   10  41561     Punjab  415610   62340\n",
       "6         7     Clothing    2   2200  Karnataka    4400   11458\n",
       "7         8     Computer    8  44135    Gujarat  353080   38840\n",
       "8         9    Furniture    9  38662    Gujarat  347958   62631\n",
       "9        10     Computer    2  33259     Punjab   66518    9312\n",
       "10       11     Clothing    7   3000  Karnataka   21000   39382\n",
       "11       12     Computer    3  48496     Punjab  145488   24732\n",
       "12       13     Computer    6  45291        Goa  271746   51630\n",
       "13       14  Electronics    8  47245         MH  377960   41576\n",
       "14       15         Auto    1  45170  Karnataka   45170    4517\n",
       "15       16         Auto    1  48271         MH   48271    4827\n",
       "16       17     Clothing    9   4000        Goa   36000   50895\n",
       "17       18     Computer    8  35351         MH  282808   28280\n",
       "18       19  Electronics    3  45614         MH  136842   13683\n",
       "19       20         Auto    6  32198        Goa  193188   21252\n",
       "20       21    Furniture   10  20082         MH  200820   40160\n",
       "21       22  Electronics    6  27034    Gujarat  162204   21084\n",
       "22       23     Computer   10  25053    Gujarat  250530   32570\n",
       "23       24         Auto    4  43316     Punjab  173264   31188\n",
       "24       25    Furniture    1  23894     Punjab   23894    2867\n",
       "25       26    Furniture    7  34316        Goa  240212   48041\n",
       "26       27     Clothing    4   1200     Punjab    4800   15108\n",
       "27       28  Electronics    9  38053     Punjab  342477   58221\n",
       "28       29  Electronics    8  42305    Gujarat  338440   50768\n",
       "29       30     Clothing    9   5000  Karnataka   45000   27153\n",
       "..      ...          ...  ...    ...        ...     ...     ...\n",
       "70       71     Computer    3  21313         MH   63939    7674\n",
       "71       72    Furniture    4  46966  Karnataka  187864   20664\n",
       "72       73    Furniture    5  44860        Goa  224300   42615\n",
       "73       74  Electronics    6  37147     Punjab  222882   33432\n",
       "74       75     Clothing    3   4200    Gujarat   12600   18273\n",
       "75       76     Clothing    3   1590        Goa    4770   12972\n",
       "76       77     Computer    3  24716    Gujarat   74148   11865\n",
       "77       78         Auto    8  34901    Gujarat  279208   36296\n",
       "78       79  Electronics    9  34171  Karnataka  307539   58428\n",
       "79       80  Electronics   10  23693         MH  236930   40280\n",
       "80       81  Electronics    4  45203    Gujarat  180812   36164\n",
       "81       82  Electronics    4  23177  Karnataka   92708   12980\n",
       "82       83     Clothing    8   1800    Gujarat   14400   22488\n",
       "83       84         Auto    1  25195     Punjab   25195    4031\n",
       "84       85     Clothing    3   2700        Goa    8100   21693\n",
       "85       86  Electronics    6  35603         MH  213618   38454\n",
       "86       87  Electronics    4  25572         MH  102288   20456\n",
       "87       88         Auto    5  47841  Karnataka  239205   28705\n",
       "88       89         Auto    8  38521  Karnataka  308168   55472\n",
       "89       90     Computer    5  40210         MH  201050   38200\n",
       "90       91     Computer    7  42772        Goa  299404   44912\n",
       "91       92     Computer    4  36918     Punjab  147672   23628\n",
       "92       93  Electronics    7  41953  Karnataka  293671   58737\n",
       "93       94         Auto    4  42778    Gujarat  171112   34224\n",
       "94       95     Clothing    7   3789    Gujarat   26523   39011\n",
       "95       96  Electronics    3  42268  Karnataka  126804   24093\n",
       "96       97  Electronics    4  36189  Karnataka  144756   17372\n",
       "97       98     Clothing    8   4800         MH   38400   62824\n",
       "98       99     Clothing    6   1400    Gujarat    8400   20088\n",
       "99      100         Auto    6  28250    Gujarat  169500   23730\n",
       "\n",
       "[100 rows x 7 columns]"
      ]
     },
     "execution_count": 1,
     "metadata": {},
     "output_type": "execute_result"
    }
   ],
   "source": [
    "import pandas as pd\n",
    "mydata=\"C:/Users/Toshil/Desktop/Marketing/sales_data.csv\"\n",
    "mydata=pd.read_csv(mydata)\n",
    "mydata"
   ]
  },
  {
   "cell_type": "code",
   "execution_count": 4,
   "metadata": {},
   "outputs": [
    {
     "data": {
      "text/plain": [
       "0     False\n",
       "1      True\n",
       "2     False\n",
       "3     False\n",
       "4     False\n",
       "5     False\n",
       "6      True\n",
       "7     False\n",
       "8     False\n",
       "9     False\n",
       "10     True\n",
       "11    False\n",
       "12    False\n",
       "13    False\n",
       "14    False\n",
       "15    False\n",
       "16     True\n",
       "17    False\n",
       "18    False\n",
       "19    False\n",
       "20    False\n",
       "21    False\n",
       "22    False\n",
       "23    False\n",
       "24    False\n",
       "25    False\n",
       "26     True\n",
       "27    False\n",
       "28    False\n",
       "29     True\n",
       "      ...  \n",
       "70    False\n",
       "71    False\n",
       "72    False\n",
       "73    False\n",
       "74     True\n",
       "75     True\n",
       "76    False\n",
       "77    False\n",
       "78    False\n",
       "79    False\n",
       "80    False\n",
       "81    False\n",
       "82     True\n",
       "83    False\n",
       "84     True\n",
       "85    False\n",
       "86    False\n",
       "87    False\n",
       "88    False\n",
       "89    False\n",
       "90    False\n",
       "91    False\n",
       "92    False\n",
       "93    False\n",
       "94     True\n",
       "95    False\n",
       "96    False\n",
       "97     True\n",
       "98     True\n",
       "99    False\n",
       "Name: Product, Length: 100, dtype: bool"
      ]
     },
     "execution_count": 4,
     "metadata": {},
     "output_type": "execute_result"
    }
   ],
   "source": [
    "mydata['Product']=='Clothing'"
   ]
  },
  {
   "cell_type": "code",
   "execution_count": 5,
   "metadata": {},
   "outputs": [
    {
     "name": "stdout",
     "output_type": "stream",
     "text": [
      "    OrderID   Product  Qnt  Price State  Sales  Profit\n",
      "16       17  Clothing    9   4000   Goa  36000   50895\n"
     ]
    }
   ],
   "source": [
    "print(mydata[(mydata['Qnt']==9) & (mydata['State']=='Goa')])"
   ]
  },
  {
   "cell_type": "code",
   "execution_count": 7,
   "metadata": {},
   "outputs": [
    {
     "ename": "SyntaxError",
     "evalue": "invalid syntax (<ipython-input-7-e10d5e7a6ac7>, line 1)",
     "output_type": "error",
     "traceback": [
      "\u001b[1;36m  File \u001b[1;32m\"<ipython-input-7-e10d5e7a6ac7>\"\u001b[1;36m, line \u001b[1;32m1\u001b[0m\n\u001b[1;33m    print(mydata[(mydata['Qnt']>6) | (mydata['State']=='Goa')] & (mydata['Product']=='Computer')])\u001b[0m\n\u001b[1;37m                                                                                                ^\u001b[0m\n\u001b[1;31mSyntaxError\u001b[0m\u001b[1;31m:\u001b[0m invalid syntax\n"
     ]
    }
   ],
   "source": [
    "print(mydata[(mydata['Qnt']>6) | (mydata['State']=='Goa')] & (mydata['Product']=='Computer')])"
   ]
  },
  {
   "cell_type": "code",
   "execution_count": 8,
   "metadata": {},
   "outputs": [
    {
     "data": {
      "text/plain": [
       "State\n",
       "Goa          472486\n",
       "Gujarat      751990\n",
       "Karnataka    676535\n",
       "MH           643336\n",
       "Punjab       448361\n",
       "Name: Profit, dtype: int64"
      ]
     },
     "execution_count": 8,
     "metadata": {},
     "output_type": "execute_result"
    }
   ],
   "source": [
    "mydata['Profit'].groupby([mydata['State']]).sum()"
   ]
  },
  {
   "cell_type": "code",
   "execution_count": 17,
   "metadata": {},
   "outputs": [
    {
     "data": {
      "text/html": [
       "<div>\n",
       "<style scoped>\n",
       "    .dataframe tbody tr th:only-of-type {\n",
       "        vertical-align: middle;\n",
       "    }\n",
       "\n",
       "    .dataframe tbody tr th {\n",
       "        vertical-align: top;\n",
       "    }\n",
       "\n",
       "    .dataframe thead th {\n",
       "        text-align: right;\n",
       "    }\n",
       "</style>\n",
       "<table border=\"1\" class=\"dataframe\">\n",
       "  <thead>\n",
       "    <tr style=\"text-align: right;\">\n",
       "      <th></th>\n",
       "      <th>OrderID</th>\n",
       "      <th>Product</th>\n",
       "      <th>Qnt</th>\n",
       "      <th>Price</th>\n",
       "      <th>State</th>\n",
       "      <th>Sales</th>\n",
       "      <th>Profit</th>\n",
       "    </tr>\n",
       "  </thead>\n",
       "  <tbody>\n",
       "    <tr>\n",
       "      <th>75</th>\n",
       "      <td>76</td>\n",
       "      <td>Clothing</td>\n",
       "      <td>3</td>\n",
       "      <td>1590</td>\n",
       "      <td>Goa</td>\n",
       "      <td>4770</td>\n",
       "      <td>12972</td>\n",
       "    </tr>\n",
       "    <tr>\n",
       "      <th>84</th>\n",
       "      <td>85</td>\n",
       "      <td>Clothing</td>\n",
       "      <td>3</td>\n",
       "      <td>2700</td>\n",
       "      <td>Goa</td>\n",
       "      <td>8100</td>\n",
       "      <td>21693</td>\n",
       "    </tr>\n",
       "  </tbody>\n",
       "</table>\n",
       "</div>"
      ],
      "text/plain": [
       "    OrderID   Product  Qnt  Price State  Sales  Profit\n",
       "75       76  Clothing    3   1590   Goa   4770   12972\n",
       "84       85  Clothing    3   2700   Goa   8100   21693"
      ]
     },
     "execution_count": 17,
     "metadata": {},
     "output_type": "execute_result"
    }
   ],
   "source": [
    "filter1=(mydata[(mydata['Qnt']==3) & (mydata['Product']=='Clothing') & (mydata['State']=='Goa')])\n",
    "filter1"
   ]
  },
  {
   "cell_type": "code",
   "execution_count": 3,
   "metadata": {},
   "outputs": [
    {
     "data": {
      "text/plain": [
       "Index(['OrderID', 'Product', 'Qnt', 'Price', 'State', 'Sales', 'Profit'], dtype='object')"
      ]
     },
     "execution_count": 3,
     "metadata": {},
     "output_type": "execute_result"
    }
   ],
   "source": [
    "mydata.keys()"
   ]
  },
  {
   "cell_type": "code",
   "execution_count": 4,
   "metadata": {},
   "outputs": [
    {
     "data": {
      "text/html": [
       "<div>\n",
       "<style scoped>\n",
       "    .dataframe tbody tr th:only-of-type {\n",
       "        vertical-align: middle;\n",
       "    }\n",
       "\n",
       "    .dataframe tbody tr th {\n",
       "        vertical-align: top;\n",
       "    }\n",
       "\n",
       "    .dataframe thead th {\n",
       "        text-align: right;\n",
       "    }\n",
       "</style>\n",
       "<table border=\"1\" class=\"dataframe\">\n",
       "  <thead>\n",
       "    <tr style=\"text-align: right;\">\n",
       "      <th></th>\n",
       "      <th>OrderID</th>\n",
       "      <th>Qnt</th>\n",
       "      <th>Price</th>\n",
       "      <th>Sales</th>\n",
       "      <th>Profit</th>\n",
       "    </tr>\n",
       "  </thead>\n",
       "  <tbody>\n",
       "    <tr>\n",
       "      <th>count</th>\n",
       "      <td>100.000000</td>\n",
       "      <td>100.000000</td>\n",
       "      <td>100.00000</td>\n",
       "      <td>100.000000</td>\n",
       "      <td>100.000000</td>\n",
       "    </tr>\n",
       "    <tr>\n",
       "      <th>mean</th>\n",
       "      <td>50.500000</td>\n",
       "      <td>5.600000</td>\n",
       "      <td>30148.34000</td>\n",
       "      <td>170395.230000</td>\n",
       "      <td>29927.080000</td>\n",
       "    </tr>\n",
       "    <tr>\n",
       "      <th>std</th>\n",
       "      <td>29.011492</td>\n",
       "      <td>2.835561</td>\n",
       "      <td>14566.13192</td>\n",
       "      <td>123439.065796</td>\n",
       "      <td>18016.599237</td>\n",
       "    </tr>\n",
       "    <tr>\n",
       "      <th>min</th>\n",
       "      <td>1.000000</td>\n",
       "      <td>1.000000</td>\n",
       "      <td>1200.00000</td>\n",
       "      <td>2100.000000</td>\n",
       "      <td>2867.000000</td>\n",
       "    </tr>\n",
       "    <tr>\n",
       "      <th>25%</th>\n",
       "      <td>25.750000</td>\n",
       "      <td>3.000000</td>\n",
       "      <td>23564.00000</td>\n",
       "      <td>53090.000000</td>\n",
       "      <td>14883.750000</td>\n",
       "    </tr>\n",
       "    <tr>\n",
       "      <th>50%</th>\n",
       "      <td>50.500000</td>\n",
       "      <td>6.000000</td>\n",
       "      <td>33552.00000</td>\n",
       "      <td>167460.000000</td>\n",
       "      <td>28240.000000</td>\n",
       "    </tr>\n",
       "    <tr>\n",
       "      <th>75%</th>\n",
       "      <td>75.250000</td>\n",
       "      <td>8.000000</td>\n",
       "      <td>42318.00000</td>\n",
       "      <td>263252.250000</td>\n",
       "      <td>41835.750000</td>\n",
       "    </tr>\n",
       "    <tr>\n",
       "      <th>max</th>\n",
       "      <td>100.000000</td>\n",
       "      <td>10.000000</td>\n",
       "      <td>49886.00000</td>\n",
       "      <td>445560.000000</td>\n",
       "      <td>74844.000000</td>\n",
       "    </tr>\n",
       "  </tbody>\n",
       "</table>\n",
       "</div>"
      ],
      "text/plain": [
       "          OrderID         Qnt        Price          Sales        Profit\n",
       "count  100.000000  100.000000    100.00000     100.000000    100.000000\n",
       "mean    50.500000    5.600000  30148.34000  170395.230000  29927.080000\n",
       "std     29.011492    2.835561  14566.13192  123439.065796  18016.599237\n",
       "min      1.000000    1.000000   1200.00000    2100.000000   2867.000000\n",
       "25%     25.750000    3.000000  23564.00000   53090.000000  14883.750000\n",
       "50%     50.500000    6.000000  33552.00000  167460.000000  28240.000000\n",
       "75%     75.250000    8.000000  42318.00000  263252.250000  41835.750000\n",
       "max    100.000000   10.000000  49886.00000  445560.000000  74844.000000"
      ]
     },
     "execution_count": 4,
     "metadata": {},
     "output_type": "execute_result"
    }
   ],
   "source": [
    "mydata.describe()"
   ]
  },
  {
   "cell_type": "code",
   "execution_count": 5,
   "metadata": {},
   "outputs": [
    {
     "name": "stdout",
     "output_type": "stream",
     "text": [
      "Electronics    29\n",
      "Computer       22\n",
      "Auto           18\n",
      "Clothing       16\n",
      "Furniture      15\n",
      "Name: Product, dtype: int64\n"
     ]
    }
   ],
   "source": [
    "print(mydata['Product'].value_counts().head(8))"
   ]
  },
  {
   "cell_type": "code",
   "execution_count": 8,
   "metadata": {},
   "outputs": [
    {
     "data": {
      "text/plain": [
       "count             100\n",
       "unique              5\n",
       "top       Electronics\n",
       "freq               29\n",
       "Name: Product, dtype: object"
      ]
     },
     "execution_count": 8,
     "metadata": {},
     "output_type": "execute_result"
    }
   ],
   "source": [
    "mydata['Product'].describe()"
   ]
  },
  {
   "cell_type": "code",
   "execution_count": 9,
   "metadata": {},
   "outputs": [
    {
     "data": {
      "text/plain": [
       "State\n",
       "Goa          472486\n",
       "Gujarat      751990\n",
       "Karnataka    676535\n",
       "MH           643336\n",
       "Punjab       448361\n",
       "Name: Profit, dtype: int64"
      ]
     },
     "execution_count": 9,
     "metadata": {},
     "output_type": "execute_result"
    }
   ],
   "source": [
    "mydata['Profit'].groupby([mydata['State']]).sum()"
   ]
  },
  {
   "cell_type": "code",
   "execution_count": 11,
   "metadata": {},
   "outputs": [
    {
     "data": {
      "text/plain": [
       "2992708"
      ]
     },
     "execution_count": 11,
     "metadata": {},
     "output_type": "execute_result"
    }
   ],
   "source": [
    "mydata['Profit'].sum()"
   ]
  },
  {
   "cell_type": "code",
   "execution_count": 12,
   "metadata": {},
   "outputs": [
    {
     "data": {
      "text/plain": [
       "Product\n",
       "Auto           534787\n",
       "Clothing       443255\n",
       "Computer       622484\n",
       "Electronics    865347\n",
       "Furniture      526835\n",
       "Name: Profit, dtype: int64"
      ]
     },
     "execution_count": 12,
     "metadata": {},
     "output_type": "execute_result"
    }
   ],
   "source": [
    "#groupby function can be mixed wth lot of functions like count, average, max, min mean median\n",
    "mydata['Profit'].groupby([mydata['Product']]).sum()"
   ]
  },
  {
   "cell_type": "code",
   "execution_count": 13,
   "metadata": {},
   "outputs": [
    {
     "data": {
      "text/plain": [
       "Product\n",
       "Auto           18\n",
       "Clothing       16\n",
       "Computer       22\n",
       "Electronics    29\n",
       "Furniture      15\n",
       "Name: Profit, dtype: int64"
      ]
     },
     "execution_count": 13,
     "metadata": {},
     "output_type": "execute_result"
    }
   ],
   "source": [
    "mydata['Profit'].groupby([mydata['Product']]).count()"
   ]
  },
  {
   "cell_type": "code",
   "execution_count": 14,
   "metadata": {},
   "outputs": [
    {
     "data": {
      "text/plain": [
       "Product\n",
       "Auto           25195\n",
       "Clothing        2100\n",
       "Computer       29208\n",
       "Electronics    20746\n",
       "Furniture      23894\n",
       "Name: Sales, dtype: int64"
      ]
     },
     "execution_count": 14,
     "metadata": {},
     "output_type": "execute_result"
    }
   ],
   "source": [
    "mydata['Sales'].groupby([mydata['Product']]).min()"
   ]
  },
  {
   "cell_type": "code",
   "execution_count": 15,
   "metadata": {},
   "outputs": [
    {
     "name": "stdout",
     "output_type": "stream",
     "text": [
      "Information of 6th column:\n",
      "        Product      State\n",
      "4  Electronics  Karnataka\n",
      "6     Clothing  Karnataka\n"
     ]
    }
   ],
   "source": [
    "print(\"Information of 6th column:\\n\",mydata.iloc[[4,6],[1,4]])"
   ]
  },
  {
   "cell_type": "code",
   "execution_count": 17,
   "metadata": {},
   "outputs": [
    {
     "name": "stdout",
     "output_type": "stream",
     "text": [
      "Information of 6th column:\n",
      "    Qnt  Price    State   Sales\n",
      "7    8  44135  Gujarat  353080\n",
      "8    9  38662  Gujarat  347958\n"
     ]
    }
   ],
   "source": [
    "print(\"Information of 6th column:\\n\",mydata.iloc[7:9,2:6])"
   ]
  },
  {
   "cell_type": "code",
   "execution_count": 19,
   "metadata": {},
   "outputs": [
    {
     "name": "stdout",
     "output_type": "stream",
     "text": [
      "Information of 6th column:\n",
      "    OrderID    Product  Qnt  Price    State   Sales  Profit\n",
      "7        8   Computer    8  44135  Gujarat  353080   38840\n",
      "8        9  Furniture    9  38662  Gujarat  347958   62631\n",
      "9       10   Computer    2  33259   Punjab   66518    9312\n"
     ]
    }
   ],
   "source": [
    "print(\"Information of 6th column:\\n\",mydata.loc[7:9])"
   ]
  },
  {
   "cell_type": "code",
   "execution_count": 22,
   "metadata": {},
   "outputs": [
    {
     "name": "stdout",
     "output_type": "stream",
     "text": [
      "Information of 6th column:\n",
      "      Product      State\n",
      "3  Furniture         MH\n",
      "6   Clothing  Karnataka\n"
     ]
    }
   ],
   "source": [
    "print(\"Information of 6th column:\\n\",mydata.loc[[3,6],['Product','State']])"
   ]
  },
  {
   "cell_type": "code",
   "execution_count": 24,
   "metadata": {},
   "outputs": [
    {
     "name": "stdout",
     "output_type": "stream",
     "text": [
      "Information of 6th column:\n",
      "        Product  Qnt  Price      State\n",
      "3    Furniture    3  22013         MH\n",
      "4  Electronics    7  24581  Karnataka\n",
      "5     Computer   10  41561     Punjab\n",
      "6     Clothing    2   2200  Karnataka\n"
     ]
    }
   ],
   "source": [
    "print(\"Information of 6th column:\\n\",mydata.loc[3:6,'Product':'State'])"
   ]
  },
  {
   "cell_type": "code",
   "execution_count": 26,
   "metadata": {},
   "outputs": [
    {
     "data": {
      "text/plain": [
       "<matplotlib.axes._subplots.AxesSubplot at 0x23c26631e48>"
      ]
     },
     "execution_count": 26,
     "metadata": {},
     "output_type": "execute_result"
    }
   ],
   "source": [
    "mydata.plot.pie('Profit')"
   ]
  },
  {
   "cell_type": "code",
   "execution_count": 24,
   "metadata": {},
   "outputs": [
    {
     "data": {
      "text/plain": [
       "<matplotlib.axes._subplots.AxesSubplot at 0x1e8ec36d8d0>"
      ]
     },
     "execution_count": 24,
     "metadata": {},
     "output_type": "execute_result"
    },
    {
     "data": {
      "image/png": "[encoded data removed]",
      "text/plain": [
       "<Figure size 432x288 with 1 Axes>"
      ]
     },
     "metadata": {},
     "output_type": "display_data"
    }
   ],
   "source": [
    "newdata=mydata.iloc[1:10]\n",
    "newdata.plot.pie(\"Profit\")"
   ]
  },
  {
   "cell_type": "code",
   "execution_count": 19,
   "metadata": {},
   "outputs": [
    {
     "data": {
      "text/plain": [
       "<matplotlib.axes._subplots.AxesSubplot at 0x1e8ec236da0>"
      ]
     },
     "execution_count": 19,
     "metadata": {},
     "output_type": "execute_result"
    },
    {
     "data": {
      "image/png": "[encoded data removed]",
      "text/plain": [
       "<Figure size 432x288 with 1 Axes>"
      ]
     },
     "metadata": {},
     "output_type": "display_data"
    }
   ],
   "source": [
    "profit_product=mydata['Profit'].groupby([mydata['Product']]).sum()\n",
    "profit_product.plot.pie()"
   ]
  },
  {
   "cell_type": "code",
   "execution_count": 20,
   "metadata": {},
   "outputs": [
    {
     "data": {
      "text/plain": [
       "<matplotlib.axes._subplots.AxesSubplot at 0x1e8ec26c320>"
      ]
     },
     "execution_count": 20,
     "metadata": {},
     "output_type": "execute_result"
    },
    {
     "data": {
      "image/png": "[encoded data removed]",
      "text/plain": [
       "<Figure size 432x288 with 1 Axes>"
      ]
     },
     "metadata": {},
     "output_type": "display_data"
    }
   ],
   "source": [
    "profit_product.plot.bar()"
   ]
  },
  {
   "cell_type": "code",
   "execution_count": 35,
   "metadata": {},
   "outputs": [
    {
     "data": {
      "text/plain": [
       "<matplotlib.axes._subplots.AxesSubplot at 0x23c26ee56d8>"
      ]
     },
     "execution_count": 35,
     "metadata": {},
     "output_type": "execute_result"
    },
    {
     "data": {
      "image/png": "[encoded data removed]",
      "text/plain": [
       "<Figure size 432x288 with 1 Axes>"
      ]
     },
     "metadata": {},
     "output_type": "display_data"
    }
   ],
   "source": [
    "profit_product.plot.hist()"
   ]
  },
  {
   "cell_type": "code",
   "execution_count": 36,
   "metadata": {},
   "outputs": [
    {
     "data": {
      "text/plain": [
       "<matplotlib.axes._subplots.AxesSubplot at 0x23c26d00f98>"
      ]
     },
     "execution_count": 36,
     "metadata": {},
     "output_type": "execute_result"
    },
    {
     "data": {
      "image/png": "[encoded data removed]",
      "text/plain": [
       "<Figure size 432x288 with 1 Axes>"
      ]
     },
     "metadata": {},
     "output_type": "display_data"
    }
   ],
   "source": [
    "profit_product.plot.barh()"
   ]
  },
  {
   "cell_type": "code",
   "execution_count": 39,
   "metadata": {},
   "outputs": [
    {
     "data": {
      "text/plain": [
       "<matplotlib.axes._subplots.AxesSubplot at 0x23c27f977f0>"
      ]
     },
     "execution_count": 39,
     "metadata": {},
     "output_type": "execute_result"
    },
    {
     "data": {
      "image/png": "[encoded data removed]",
      "text/plain": [
       "<Figure size 432x288 with 1 Axes>"
      ]
     },
     "metadata": {},
     "output_type": "display_data"
    }
   ],
   "source": [
    "mydata.plot.scatter('Profit','Sales')"
   ]
  },
  {
   "cell_type": "code",
   "execution_count": 44,
   "metadata": {},
   "outputs": [
    {
     "data": {
      "text/plain": [
       "<matplotlib.axes._subplots.AxesSubplot at 0x23c27ff6c50>"
      ]
     },
     "execution_count": 44,
     "metadata": {},
     "output_type": "execute_result"
    },
    {
     "data": {
      "image/png": "[encoded data removed]",
      "text/plain": [
       "<Figure size 432x288 with 1 Axes>"
      ]
     },
     "metadata": {},
     "output_type": "display_data"
    }
   ],
   "source": [
    "mydata.boxplot(column='Sales' , by='State')"
   ]
  },
  {
   "cell_type": "code",
   "execution_count": 54,
   "metadata": {},
   "outputs": [
    {
     "data": {
      "text/plain": [
       "<matplotlib.axes._subplots.AxesSubplot at 0x23c2834c7f0>"
      ]
     },
     "execution_count": 54,
     "metadata": {},
     "output_type": "execute_result"
    },
    {
     "data": {
      "image/png": "[encoded data removed]",
      "text/plain": [
       "<Figure size 432x288 with 1 Axes>"
      ]
     },
     "metadata": {},
     "output_type": "display_data"
    }
   ],
   "source": [
    "profit_product.plot.line()"
   ]
  },
  {
   "cell_type": "code",
   "execution_count": 56,
   "metadata": {},
   "outputs": [
    {
     "data": {
      "text/plain": [
       "<matplotlib.axes._subplots.AxesSubplot at 0x23c283f8240>"
      ]
     },
     "execution_count": 56,
     "metadata": {},
     "output_type": "execute_result"
    },
    {
     "data": {
      "image/png": "[encoded data removed]",
      "text/plain": [
       "<Figure size 432x288 with 1 Axes>"
      ]
     },
     "metadata": {},
     "output_type": "display_data"
    }
   ],
   "source": [
    "pd.crosstab(mydata.State,mydata.Product).plot(kind='bar')"
   ]
  },
  {
   "cell_type": "code",
   "execution_count": 4,
   "metadata": {},
   "outputs": [
    {
     "data": {
      "text/html": [
       "<div>\n",
       "<style scoped>\n",
       "    .dataframe tbody tr th:only-of-type {\n",
       "        vertical-align: middle;\n",
       "    }\n",
       "\n",
       "    .dataframe tbody tr th {\n",
       "        vertical-align: top;\n",
       "    }\n",
       "\n",
       "    .dataframe thead th {\n",
       "        text-align: right;\n",
       "    }\n",
       "</style>\n",
       "<table border=\"1\" class=\"dataframe\">\n",
       "  <thead>\n",
       "    <tr style=\"text-align: right;\">\n",
       "      <th>Product</th>\n",
       "      <th>Auto</th>\n",
       "      <th>Clothing</th>\n",
       "      <th>Computer</th>\n",
       "      <th>Electronics</th>\n",
       "      <th>Furniture</th>\n",
       "    </tr>\n",
       "    <tr>\n",
       "      <th>State</th>\n",
       "      <th></th>\n",
       "      <th></th>\n",
       "      <th></th>\n",
       "      <th></th>\n",
       "      <th></th>\n",
       "    </tr>\n",
       "  </thead>\n",
       "  <tbody>\n",
       "    <tr>\n",
       "      <th>Goa</th>\n",
       "      <td>2</td>\n",
       "      <td>4</td>\n",
       "      <td>3</td>\n",
       "      <td>2</td>\n",
       "      <td>3</td>\n",
       "    </tr>\n",
       "    <tr>\n",
       "      <th>Gujarat</th>\n",
       "      <td>6</td>\n",
       "      <td>6</td>\n",
       "      <td>3</td>\n",
       "      <td>7</td>\n",
       "      <td>3</td>\n",
       "    </tr>\n",
       "    <tr>\n",
       "      <th>Karnataka</th>\n",
       "      <td>4</td>\n",
       "      <td>4</td>\n",
       "      <td>2</td>\n",
       "      <td>10</td>\n",
       "      <td>3</td>\n",
       "    </tr>\n",
       "    <tr>\n",
       "      <th>MH</th>\n",
       "      <td>3</td>\n",
       "      <td>1</td>\n",
       "      <td>9</td>\n",
       "      <td>5</td>\n",
       "      <td>3</td>\n",
       "    </tr>\n",
       "    <tr>\n",
       "      <th>Punjab</th>\n",
       "      <td>3</td>\n",
       "      <td>1</td>\n",
       "      <td>5</td>\n",
       "      <td>5</td>\n",
       "      <td>3</td>\n",
       "    </tr>\n",
       "  </tbody>\n",
       "</table>\n",
       "</div>"
      ],
      "text/plain": [
       "Product    Auto  Clothing  Computer  Electronics  Furniture\n",
       "State                                                      \n",
       "Goa           2         4         3            2          3\n",
       "Gujarat       6         6         3            7          3\n",
       "Karnataka     4         4         2           10          3\n",
       "MH            3         1         9            5          3\n",
       "Punjab        3         1         5            5          3"
      ]
     },
     "execution_count": 4,
     "metadata": {},
     "output_type": "execute_result"
    }
   ],
   "source": [
    "#CLASS 5\n",
    "pd.crosstab(mydata.State, mydata.Product)"
   ]
  },
  {
   "cell_type": "code",
   "execution_count": 5,
   "metadata": {},
   "outputs": [],
   "source": [
    "import matplotlib.pyplot as plt"
   ]
  },
  {
   "cell_type": "code",
   "execution_count": 26,
   "metadata": {},
   "outputs": [
    {
     "data": {
      "image/png": "[encoded data removed]",
      "text/plain": [
       "<Figure size 432x288 with 1 Axes>"
      ]
     },
     "metadata": {},
     "output_type": "display_data"
    }
   ],
   "source": [
    "plt.plot(mydata['Sales'])\n",
    "plt.ylabel('Sales Information')\n",
    "plt.xlabel('Transection')\n",
    "plt.title('Line Chart')\n",
    "plt.grid(True)"
   ]
  },
  {
   "cell_type": "code",
   "execution_count": 9,
   "metadata": {},
   "outputs": [
    {
     "data": {
      "text/plain": [
       "[<matplotlib.lines.Line2D at 0x1e8eb120470>]"
      ]
     },
     "execution_count": 9,
     "metadata": {},
     "output_type": "execute_result"
    },
    {
     "data": {
      "image/png": "[encoded data removed]",
      "text/plain": [
       "<Figure size 432x288 with 1 Axes>"
      ]
     },
     "metadata": {},
     "output_type": "display_data"
    }
   ],
   "source": [
    "plt.plot(mydata['Sales'],'ro')"
   ]
  },
  {
   "cell_type": "code",
   "execution_count": 10,
   "metadata": {},
   "outputs": [
    {
     "data": {
      "text/plain": [
       "[<matplotlib.lines.Line2D at 0x1e8eb178390>]"
      ]
     },
     "execution_count": 10,
     "metadata": {},
     "output_type": "execute_result"
    },
    {
     "data": {
      "image/png": "[encoded data removed]",
      "text/plain": [
       "<Figure size 432x288 with 1 Axes>"
      ]
     },
     "metadata": {},
     "output_type": "display_data"
    }
   ],
   "source": [
    "plt.plot(mydata['Sales'],'gs')"
   ]
  },
  {
   "cell_type": "code",
   "execution_count": 11,
   "metadata": {},
   "outputs": [
    {
     "data": {
      "text/plain": [
       "[<matplotlib.lines.Line2D at 0x1e8eac649b0>]"
      ]
     },
     "execution_count": 11,
     "metadata": {},
     "output_type": "execute_result"
    },
    {
     "data": {
      "image/png": "[encoded data removed]",
      "text/plain": [
       "<Figure size 432x288 with 1 Axes>"
      ]
     },
     "metadata": {},
     "output_type": "display_data"
    }
   ],
   "source": [
    "plt.plot(mydata['Sales'],'y--')"
   ]
  },
  {
   "cell_type": "code",
   "execution_count": 12,
   "metadata": {},
   "outputs": [
    {
     "data": {
      "text/plain": [
       "[<matplotlib.lines.Line2D at 0x1e8eac6cd30>]"
      ]
     },
     "execution_count": 12,
     "metadata": {},
     "output_type": "execute_result"
    },
    {
     "data": {
      "image/png": "[encoded data removed]",
      "text/plain": [
       "<Figure size 432x288 with 1 Axes>"
      ]
     },
     "metadata": {},
     "output_type": "display_data"
    }
   ],
   "source": [
    "plt.plot(mydata['Sales'],'m^')"
   ]
  },
  {
   "cell_type": "code",
   "execution_count": 13,
   "metadata": {},
   "outputs": [
    {
     "data": {
      "text/plain": [
       "[<matplotlib.lines.Line2D at 0x1e8eb20db38>]"
      ]
     },
     "execution_count": 13,
     "metadata": {},
     "output_type": "execute_result"
    },
    {
     "data": {
      "image/png": "[encoded data removed]",
      "text/plain": [
       "<Figure size 432x288 with 1 Axes>"
      ]
     },
     "metadata": {},
     "output_type": "display_data"
    }
   ],
   "source": [
    "plt.plot(mydata['Sales'],'b*')"
   ]
  },
  {
   "cell_type": "code",
   "execution_count": 22,
   "metadata": {},
   "outputs": [
    {
     "data": {
      "text/plain": [
       "([<matplotlib.patches.Wedge at 0x1e8ec346630>,\n",
       "  <matplotlib.patches.Wedge at 0x1e8ec346b00>,\n",
       "  <matplotlib.patches.Wedge at 0x1e8ec351080>,\n",
       "  <matplotlib.patches.Wedge at 0x1e8ec3515c0>,\n",
       "  <matplotlib.patches.Wedge at 0x1e8ec351b00>],\n",
       " [Text(0.931166,0.585602,''),\n",
       "  Text(-0.0190232,1.09984,''),\n",
       "  Text(-0.997676,0.463295,''),\n",
       "  Text(-0.472203,-0.993491,''),\n",
       "  Text(0.936022,-0.577809,'')])"
      ]
     },
     "execution_count": 22,
     "metadata": {},
     "output_type": "execute_result"
    },
    {
     "data": {
      "image/png": "[encoded data removed]",
      "text/plain": [
       "<Figure size 432x288 with 1 Axes>"
      ]
     },
     "metadata": {},
     "output_type": "display_data"
    }
   ],
   "source": [
    "plt.pie(profit_product)"
   ]
  },
  {
   "cell_type": "code",
   "execution_count": 25,
   "metadata": {},
   "outputs": [
    {
     "data": {
      "text/plain": [
       "<BarContainer object of 9 artists>"
      ]
     },
     "execution_count": 25,
     "metadata": {},
     "output_type": "execute_result"
    },
    {
     "data": {
      "image/png": "[encoded data removed]",
      "text/plain": [
       "<Figure size 432x288 with 1 Axes>"
      ]
     },
     "metadata": {},
     "output_type": "display_data"
    }
   ],
   "source": [
    "plt.bar(newdata['State'],newdata['Profit'])"
   ]
  },
  {
   "cell_type": "code",
   "execution_count": 27,
   "metadata": {},
   "outputs": [
    {
     "data": {
      "text/plain": [
       "<BarContainer object of 9 artists>"
      ]
     },
     "execution_count": 27,
     "metadata": {},
     "output_type": "execute_result"
    },
    {
     "data": {
      "image/png": "[encoded data removed]",
      "text/plain": [
       "<Figure size 432x288 with 1 Axes>"
      ]
     },
     "metadata": {},
     "output_type": "display_data"
    }
   ],
   "source": [
    "plt.barh(newdata['State'],newdata['Profit'])"
   ]
  },
  {
   "cell_type": "code",
   "execution_count": 34,
   "metadata": {},
   "outputs": [],
   "source": [
    "import seaborn"
   ]
  },
  {
   "cell_type": "code",
   "execution_count": 45,
   "metadata": {},
   "outputs": [
    {
     "data": {
      "text/plain": [
       "<matplotlib.axes._subplots.AxesSubplot at 0x1e8ee759d68>"
      ]
     },
     "execution_count": 45,
     "metadata": {},
     "output_type": "execute_result"
    },
    {
     "data": {
      "image/png": "[encoded data removed]",
      "text/plain": [
       "<Figure size 720x360 with 1 Axes>"
      ]
     },
     "metadata": {},
     "output_type": "display_data"
    }
   ],
   "source": [
    "#X should have a categorical variable and y should had a continues variable in boxplot\n",
    "plt.figure(figsize=(10,5))\n",
    "seaborn.boxplot(x=mydata['Product'],y=mydata['Sales'])"
   ]
  },
  {
   "cell_type": "code",
   "execution_count": 36,
   "metadata": {},
   "outputs": [
    {
     "data": {
      "text/plain": [
       "<matplotlib.axes._subplots.AxesSubplot at 0x1e8ed15e400>"
      ]
     },
     "execution_count": 36,
     "metadata": {},
     "output_type": "execute_result"
    },
    {
     "data": {
      "image/png": "[encoded data removed]",
      "text/plain": [
       "<Figure size 432x288 with 1 Axes>"
      ]
     },
     "metadata": {},
     "output_type": "display_data"
    }
   ],
   "source": [
    "seaborn.violinplot(x=mydata['State'],y=mydata['Profit'])"
   ]
  },
  {
   "cell_type": "code",
   "execution_count": 37,
   "metadata": {},
   "outputs": [
    {
     "data": {
      "text/plain": [
       "<matplotlib.axes._subplots.AxesSubplot at 0x1e8ed1e69e8>"
      ]
     },
     "execution_count": 37,
     "metadata": {},
     "output_type": "execute_result"
    },
    {
     "data": {
      "image/png": "[encoded data removed]",
      "text/plain": [
       "<Figure size 432x288 with 1 Axes>"
      ]
     },
     "metadata": {},
     "output_type": "display_data"
    }
   ],
   "source": [
    "seaborn.regplot(y=mydata['Profit'],x=mydata['Sales'])"
   ]
  },
  {
   "cell_type": "code",
   "execution_count": 40,
   "metadata": {},
   "outputs": [
    {
     "data": {
      "text/plain": [
       "<matplotlib.axes._subplots.AxesSubplot at 0x1e8ed2df780>"
      ]
     },
     "execution_count": 40,
     "metadata": {},
     "output_type": "execute_result"
    },
    {
     "data": {
      "image/png": "[encoded data removed]",
      "text/plain": [
       "<Figure size 432x288 with 1 Axes>"
      ]
     },
     "metadata": {},
     "output_type": "display_data"
    }
   ],
   "source": [
    "seaborn.countplot(y=mydata['Product'])"
   ]
  },
  {
   "cell_type": "code",
   "execution_count": 42,
   "metadata": {},
   "outputs": [
    {
     "data": {
      "text/plain": [
       "<matplotlib.axes._subplots.AxesSubplot at 0x1e8ed5c46d8>"
      ]
     },
     "execution_count": 42,
     "metadata": {},
     "output_type": "execute_result"
    },
    {
     "data": {
      "image/png": "[encoded data removed]",
      "text/plain": [
       "<Figure size 432x288 with 2 Axes>"
      ]
     },
     "metadata": {},
     "output_type": "display_data"
    }
   ],
   "source": [
    "seaborn.heatmap(mydata[['Sales','Profit']])"
   ]
  },
  {
   "cell_type": "code",
   "execution_count": 47,
   "metadata": {},
   "outputs": [
    {
     "data": {
      "text/plain": [
       "<matplotlib.axes._subplots.AxesSubplot at 0x1e8ee899390>"
      ]
     },
     "execution_count": 47,
     "metadata": {},
     "output_type": "execute_result"
    },
    {
     "data": {
      "image/png": "[encoded data removed]",
      "text/plain": [
       "<Figure size 432x288 with 2 Axes>"
      ]
     },
     "metadata": {},
     "output_type": "display_data"
    }
   ],
   "source": [
    "seaborn.heatmap(mydata[['Sales']], cmap='rainbow')"
   ]
  },
  {
   "cell_type": "code",
   "execution_count": 48,
   "metadata": {},
   "outputs": [
    {
     "data": {
      "text/plain": [
       "<matplotlib.axes._subplots.AxesSubplot at 0x1e8ee941400>"
      ]
     },
     "execution_count": 48,
     "metadata": {},
     "output_type": "execute_result"
    },
    {
     "data": {
      "image/png": "[encoded data removed]",
      "text/plain": [
       "<Figure size 432x288 with 2 Axes>"
      ]
     },
     "metadata": {},
     "output_type": "display_data"
    }
   ],
   "source": [
    "seaborn.heatmap(mydata[['Sales']], cmap='terrain')"
   ]
  },
  {
   "cell_type": "code",
   "execution_count": 49,
   "metadata": {},
   "outputs": [
    {
     "data": {
      "text/plain": [
       "<matplotlib.axes._subplots.AxesSubplot at 0x1e8ee9e46d8>"
      ]
     },
     "execution_count": 49,
     "metadata": {},
     "output_type": "execute_result"
    },
    {
     "data": {
      "image/png": "[encoded data removed]",
      "text/plain": [
       "<Figure size 432x288 with 2 Axes>"
      ]
     },
     "metadata": {},
     "output_type": "display_data"
    }
   ],
   "source": [
    "seaborn.heatmap(mydata[['Sales']], cmap='plasma')"
   ]
  },
  {
   "cell_type": "code",
   "execution_count": 44,
   "metadata": {},
   "outputs": [
    {
     "data": {
      "text/plain": [
       "<matplotlib.axes._subplots.AxesSubplot at 0x1e8ed708898>"
      ]
     },
     "execution_count": 44,
     "metadata": {},
     "output_type": "execute_result"
    },
    {
     "data": {
      "image/png": "[encoded data removed]",
      "text/plain": [
       "<Figure size 432x288 with 2 Axes>"
      ]
     },
     "metadata": {},
     "output_type": "display_data"
    }
   ],
   "source": [
    "#corelation give you a corelation between continues variables\n",
    "seaborn.heatmap(mydata.corr())"
   ]
  },
  {
   "cell_type": "code",
   "execution_count": 2,
   "metadata": {},
   "outputs": [],
   "source": [
    "#date 25/11/2020\n",
    "#Sales is a dependant variable\n",
    "#advertising is an independent variable\n",
    "\n",
    "sales=[51,56,48,60,71,56,79,68,55,67,62,51,48,68,83,54, 74,58,52,78,67,53,56,71,50,47,51]\n",
    "advertising=[145,163,137,175,164,148,186,178,156,179,163,152,138,166,189,133,178,161,149,189,176,159,162,174,146,139,153]"
   ]
  },
  {
   "cell_type": "code",
   "execution_count": 4,
   "metadata": {},
   "outputs": [
    {
     "data": {
      "text/plain": [
       "27"
      ]
     },
     "execution_count": 4,
     "metadata": {},
     "output_type": "execute_result"
    }
   ],
   "source": [
    "len(sales)"
   ]
  },
  {
   "cell_type": "code",
   "execution_count": 5,
   "metadata": {},
   "outputs": [
    {
     "data": {
      "text/plain": [
       "27"
      ]
     },
     "execution_count": 5,
     "metadata": {},
     "output_type": "execute_result"
    }
   ],
   "source": [
    "len(advertising)"
   ]
  },
  {
   "cell_type": "code",
   "execution_count": 6,
   "metadata": {},
   "outputs": [],
   "source": [
    "from scipy import stats"
   ]
  },
  {
   "cell_type": "code",
   "execution_count": 7,
   "metadata": {},
   "outputs": [
    {
     "data": {
      "text/plain": [
       "0.5730639593760272"
      ]
     },
     "execution_count": 7,
     "metadata": {},
     "output_type": "execute_result"
    }
   ],
   "source": [
    "stats.skew(sales)"
   ]
  },
  {
   "cell_type": "code",
   "execution_count": 9,
   "metadata": {},
   "outputs": [
    {
     "data": {
      "text/plain": [
       "0.03215787393672101"
      ]
     },
     "execution_count": 9,
     "metadata": {},
     "output_type": "execute_result"
    }
   ],
   "source": [
    "stats.skew(advertising)"
   ]
  },
  {
   "cell_type": "code",
   "execution_count": 10,
   "metadata": {},
   "outputs": [
    {
     "name": "stdout",
     "output_type": "stream",
     "text": [
      "-0.8682290635260808\n",
      "-1.0336988653887225\n"
     ]
    }
   ],
   "source": [
    "print(stats.kurtosis(sales))\n",
    "print(stats.kurtosis(advertising))"
   ]
  },
  {
   "cell_type": "code",
   "execution_count": 12,
   "metadata": {},
   "outputs": [
    {
     "data": {
      "text/plain": [
       "SpearmanrResult(correlation=0.9112751485100441, pvalue=4.007333422096993e-11)"
      ]
     },
     "execution_count": 12,
     "metadata": {},
     "output_type": "execute_result"
    }
   ],
   "source": [
    "stats.spearmanr(sales,advertising)"
   ]
  },
  {
   "cell_type": "code",
   "execution_count": 13,
   "metadata": {},
   "outputs": [
    {
     "data": {
      "text/plain": [
       "(0.9017969906216877, 1.3520943903559783e-10)"
      ]
     },
     "execution_count": 13,
     "metadata": {},
     "output_type": "execute_result"
    }
   ],
   "source": [
    "stats.pearsonr(sales,advertising)"
   ]
  },
  {
   "cell_type": "code",
   "execution_count": 14,
   "metadata": {},
   "outputs": [],
   "source": [
    "import matplotlib.pyplot as plt"
   ]
  },
  {
   "cell_type": "code",
   "execution_count": 20,
   "metadata": {},
   "outputs": [
    {
     "data": {
      "text/plain": [
       "<matplotlib.collections.PathCollection at 0x298d7e1e358>"
      ]
     },
     "execution_count": 20,
     "metadata": {},
     "output_type": "execute_result"
    },
    {
     "data": {
      "image/png": "[encoded data removed]",
      "text/plain": [
       "<Figure size 432x288 with 1 Axes>"
      ]
     },
     "metadata": {},
     "output_type": "display_data"
    }
   ],
   "source": [
    "plt.scatter(sales,advertising)"
   ]
  },
  {
   "cell_type": "code",
   "execution_count": 15,
   "metadata": {},
   "outputs": [],
   "source": [
    "from sklearn import linear_model"
   ]
  },
  {
   "cell_type": "code",
   "execution_count": 16,
   "metadata": {},
   "outputs": [],
   "source": [
    "mymodel=linear_model.LinearRegression()"
   ]
  },
  {
   "cell_type": "code",
   "execution_count": 17,
   "metadata": {},
   "outputs": [],
   "source": [
    "import pandas as pd"
   ]
  },
  {
   "cell_type": "code",
   "execution_count": 18,
   "metadata": {},
   "outputs": [],
   "source": [
    "salesdf=pd.DataFrame(sales)\n",
    "advertisingdf=pd.DataFrame(advertising)"
   ]
  },
  {
   "cell_type": "code",
   "execution_count": 19,
   "metadata": {},
   "outputs": [
    {
     "data": {
      "text/plain": [
       "LinearRegression(copy_X=True, fit_intercept=True, n_jobs=1, normalize=False)"
      ]
     },
     "execution_count": 19,
     "metadata": {},
     "output_type": "execute_result"
    }
   ],
   "source": [
    "#advertising is aindependent variable and sales is a dependant variable\n",
    "mymodel.fit(advertisingdf,salesdf)"
   ]
  },
  {
   "cell_type": "code",
   "execution_count": 21,
   "metadata": {},
   "outputs": [
    {
     "data": {
      "text/plain": [
       "array([[0.5778591]])"
      ]
     },
     "execution_count": 21,
     "metadata": {},
     "output_type": "execute_result"
    }
   ],
   "source": [
    "mymodel.coef_"
   ]
  },
  {
   "cell_type": "code",
   "execution_count": null,
   "metadata": {},
   "outputs": [],
   "source": [
    "#y a +bx\n",
    "#y is a dependent variable\n",
    "#a is an intercept\n",
    "#b is the coefficient\n",
    "#x is an independent variable"
   ]
  },
  {
   "cell_type": "code",
   "execution_count": 23,
   "metadata": {},
   "outputs": [
    {
     "data": {
      "text/plain": [
       "array([-32.75222028])"
      ]
     },
     "execution_count": 23,
     "metadata": {},
     "output_type": "execute_result"
    }
   ],
   "source": [
    "mymodel.intercept_"
   ]
  },
  {
   "cell_type": "markdown",
   "metadata": {},
   "source": [
    "mymodel.coef_"
   ]
  },
  {
   "cell_type": "code",
   "execution_count": 26,
   "metadata": {},
   "outputs": [],
   "source": [
    "testad=pd.DataFrame([175,190])"
   ]
  },
  {
   "cell_type": "code",
   "execution_count": 27,
   "metadata": {},
   "outputs": [
    {
     "data": {
      "text/plain": [
       "68.225"
      ]
     },
     "execution_count": 27,
     "metadata": {},
     "output_type": "execute_result"
    }
   ],
   "source": [
    "-32.75 + (0.577 * 175)"
   ]
  },
  {
   "cell_type": "code",
   "execution_count": 28,
   "metadata": {},
   "outputs": [
    {
     "data": {
      "text/plain": [
       "76.88"
      ]
     },
     "execution_count": 28,
     "metadata": {},
     "output_type": "execute_result"
    }
   ],
   "source": [
    "-32.75 + (0.577 * 190)"
   ]
  },
  {
   "cell_type": "code",
   "execution_count": 29,
   "metadata": {},
   "outputs": [
    {
     "data": {
      "text/plain": [
       "array([68.37312181])"
      ]
     },
     "execution_count": 29,
     "metadata": {},
     "output_type": "execute_result"
    }
   ],
   "source": [
    "mymodel.predict(testad)[0]"
   ]
  },
  {
   "cell_type": "code",
   "execution_count": 30,
   "metadata": {},
   "outputs": [
    {
     "data": {
      "text/plain": [
       "array([77.04100827])"
      ]
     },
     "execution_count": 30,
     "metadata": {},
     "output_type": "execute_result"
    }
   ],
   "source": [
    "mymodel.predict(testad)[1]"
   ]
  },
  {
   "cell_type": "code",
   "execution_count": 33,
   "metadata": {},
   "outputs": [
    {
     "name": "stdout",
     "output_type": "stream",
     "text": [
      "[55.66022166]\n",
      "[74.72957188]\n",
      "[64.32810813]\n"
     ]
    }
   ],
   "source": [
    "newtestad=pd.DataFrame([153,186,168])\n",
    "print(mymodel.predict(newtestad)[0])\n",
    "print(mymodel.predict(newtestad)[1])\n",
    "print(mymodel.predict(newtestad)[2])"
   ]
  },
  {
   "cell_type": "code",
   "execution_count": 34,
   "metadata": {},
   "outputs": [
    {
     "data": {
      "text/plain": [
       "0.8132378122943325"
      ]
     },
     "execution_count": 34,
     "metadata": {},
     "output_type": "execute_result"
    }
   ],
   "source": [
    "mymodel.score(advertisingdf,salesdf)"
   ]
  }
 ],
 "metadata": {
  "kernelspec": {
   "display_name": "Python 3",
   "language": "python",
   "name": "python3"
  },
  "language_info": {
   "codemirror_mode": {
    "name": "ipython",
    "version": 3
   },
   "file_extension": ".py",
   "mimetype": "text/x-python",
   "name": "python",
   "nbconvert_exporter": "python",
   "pygments_lexer": "ipython3",
   "version": "3.6.5"
  }
 },
 "nbformat": 4,
 "nbformat_minor": 2
}
